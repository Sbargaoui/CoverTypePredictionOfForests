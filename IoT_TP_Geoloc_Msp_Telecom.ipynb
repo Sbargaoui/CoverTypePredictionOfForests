{
 "cells": [
  {
   "cell_type": "markdown",
   "metadata": {},
   "source": [
    "# TP IoT - Géolocalisation - MS BGD 2016-2017\n",
    "\n",
    "Groupe : \n",
    "* Sami Bargaoui\n",
    "* Léonard Binet\n",
    "* Stéphane Trublereau"
   ]
  },
  {
   "cell_type": "markdown",
   "metadata": {},
   "source": [
    "## Initialisation"
   ]
  },
  {
   "cell_type": "code",
   "execution_count": 372,
   "metadata": {
    "collapsed": false
   },
   "outputs": [],
   "source": [
    "# Import des packages\n",
    "%matplotlib inline\n",
    "import numpy as np\n",
    "import pandas as pd\n",
    "import matplotlib.pyplot as plt\n",
    "import math\n",
    "from geopy.distance import vincenty"
   ]
  },
  {
   "cell_type": "code",
   "execution_count": 373,
   "metadata": {
    "collapsed": false
   },
   "outputs": [],
   "source": [
    "# Import des modèles\n",
    "# premier modèle\n",
    "from sklearn import linear_model\n",
    "# modèle knn regressor\n",
    "from sklearn.neighbors import KNeighborsRegressor\n",
    "# modèle SVM\n",
    "from sklearn.svm import SVR\n",
    "# modèles ensemblistes\n",
    "from sklearn import ensemble\n",
    "from sklearn import cross_validation"
   ]
  },
  {
   "cell_type": "markdown",
   "metadata": {},
   "source": [
    "## Chargement des données"
   ]
  },
  {
   "cell_type": "code",
   "execution_count": 374,
   "metadata": {
    "collapsed": false
   },
   "outputs": [],
   "source": [
    "# load train data\n",
    "df_mess_train = pd.read_csv('mess_train_list.csv') # train set\n",
    "# load test data\n",
    "df_mess_test = pd.read_csv('mess_test_list.csv') # test set\n",
    "pos_train = pd.read_csv('pos_train_list.csv') # position associated to train set"
   ]
  },
  {
   "cell_type": "code",
   "execution_count": 375,
   "metadata": {
    "collapsed": false
   },
   "outputs": [
    {
     "data": {
      "text/html": [
       "<div>\n",
       "<table border=\"1\" class=\"dataframe\">\n",
       "  <thead>\n",
       "    <tr style=\"text-align: right;\">\n",
       "      <th></th>\n",
       "      <th>objid</th>\n",
       "      <th>bsid</th>\n",
       "      <th>did</th>\n",
       "      <th>nseq</th>\n",
       "      <th>rssi</th>\n",
       "      <th>time_ux</th>\n",
       "      <th>bs_lat</th>\n",
       "      <th>bs_lng</th>\n",
       "    </tr>\n",
       "  </thead>\n",
       "  <tbody>\n",
       "    <tr>\n",
       "      <th>0</th>\n",
       "      <td>573bf1d9864fce1a9af8c5c9</td>\n",
       "      <td>2841</td>\n",
       "      <td>473335.0</td>\n",
       "      <td>0.5</td>\n",
       "      <td>-121.5</td>\n",
       "      <td>1.463546e+12</td>\n",
       "      <td>39.617794</td>\n",
       "      <td>-104.954917</td>\n",
       "    </tr>\n",
       "    <tr>\n",
       "      <th>1</th>\n",
       "      <td>573bf1d9864fce1a9af8c5c9</td>\n",
       "      <td>3526</td>\n",
       "      <td>473335.0</td>\n",
       "      <td>2.0</td>\n",
       "      <td>-125.0</td>\n",
       "      <td>1.463546e+12</td>\n",
       "      <td>39.677251</td>\n",
       "      <td>-104.952721</td>\n",
       "    </tr>\n",
       "    <tr>\n",
       "      <th>2</th>\n",
       "      <td>573bf3533e952e19126b256a</td>\n",
       "      <td>2605</td>\n",
       "      <td>473335.0</td>\n",
       "      <td>1.0</td>\n",
       "      <td>-134.0</td>\n",
       "      <td>1.463547e+12</td>\n",
       "      <td>39.612745</td>\n",
       "      <td>-105.008827</td>\n",
       "    </tr>\n",
       "    <tr>\n",
       "      <th>3</th>\n",
       "      <td>573c0cd0f0fe6e735a699b93</td>\n",
       "      <td>2610</td>\n",
       "      <td>473953.0</td>\n",
       "      <td>2.0</td>\n",
       "      <td>-132.0</td>\n",
       "      <td>1.463553e+12</td>\n",
       "      <td>39.797969</td>\n",
       "      <td>-105.073460</td>\n",
       "    </tr>\n",
       "    <tr>\n",
       "      <th>4</th>\n",
       "      <td>573c0cd0f0fe6e735a699b93</td>\n",
       "      <td>3574</td>\n",
       "      <td>473953.0</td>\n",
       "      <td>1.0</td>\n",
       "      <td>-120.0</td>\n",
       "      <td>1.463553e+12</td>\n",
       "      <td>39.723151</td>\n",
       "      <td>-104.956216</td>\n",
       "    </tr>\n",
       "  </tbody>\n",
       "</table>\n",
       "</div>"
      ],
      "text/plain": [
       "                      objid  bsid       did  nseq   rssi       time_ux  \\\n",
       "0  573bf1d9864fce1a9af8c5c9  2841  473335.0   0.5 -121.5  1.463546e+12   \n",
       "1  573bf1d9864fce1a9af8c5c9  3526  473335.0   2.0 -125.0  1.463546e+12   \n",
       "2  573bf3533e952e19126b256a  2605  473335.0   1.0 -134.0  1.463547e+12   \n",
       "3  573c0cd0f0fe6e735a699b93  2610  473953.0   2.0 -132.0  1.463553e+12   \n",
       "4  573c0cd0f0fe6e735a699b93  3574  473953.0   1.0 -120.0  1.463553e+12   \n",
       "\n",
       "      bs_lat      bs_lng  \n",
       "0  39.617794 -104.954917  \n",
       "1  39.677251 -104.952721  \n",
       "2  39.612745 -105.008827  \n",
       "3  39.797969 -105.073460  \n",
       "4  39.723151 -104.956216  "
      ]
     },
     "execution_count": 375,
     "metadata": {},
     "output_type": "execute_result"
    }
   ],
   "source": [
    "# objid : ident du message reçu\n",
    "# bsid  : ident base de reception\n",
    "# did : device de l'emetteur\n",
    "# rssi : pussance du signal\n",
    "# time_ux : time de reception du message\n",
    "# bs_lat et bs_lng : position de la base de reception\n",
    "df_mess_train.head()"
   ]
  },
  {
   "cell_type": "code",
   "execution_count": 376,
   "metadata": {
    "collapsed": false
   },
   "outputs": [
    {
     "data": {
      "text/html": [
       "<div>\n",
       "<table border=\"1\" class=\"dataframe\">\n",
       "  <thead>\n",
       "    <tr style=\"text-align: right;\">\n",
       "      <th></th>\n",
       "      <th>bsid</th>\n",
       "      <th>did</th>\n",
       "      <th>nseq</th>\n",
       "      <th>rssi</th>\n",
       "      <th>time_ux</th>\n",
       "      <th>bs_lat</th>\n",
       "      <th>bs_lng</th>\n",
       "    </tr>\n",
       "  </thead>\n",
       "  <tbody>\n",
       "    <tr>\n",
       "      <th>count</th>\n",
       "      <td>39250.000000</td>\n",
       "      <td>3.925000e+04</td>\n",
       "      <td>39250.000000</td>\n",
       "      <td>39250.000000</td>\n",
       "      <td>3.925000e+04</td>\n",
       "      <td>39250.000000</td>\n",
       "      <td>39250.000000</td>\n",
       "    </tr>\n",
       "    <tr>\n",
       "      <th>mean</th>\n",
       "      <td>4533.774752</td>\n",
       "      <td>4.835932e+05</td>\n",
       "      <td>1.043541</td>\n",
       "      <td>-125.863580</td>\n",
       "      <td>1.473368e+12</td>\n",
       "      <td>42.554998</td>\n",
       "      <td>-100.969685</td>\n",
       "    </tr>\n",
       "    <tr>\n",
       "      <th>std</th>\n",
       "      <td>2570.495638</td>\n",
       "      <td>9.893140e+04</td>\n",
       "      <td>0.563540</td>\n",
       "      <td>9.226500</td>\n",
       "      <td>5.506910e+09</td>\n",
       "      <td>7.722787</td>\n",
       "      <td>11.522732</td>\n",
       "    </tr>\n",
       "    <tr>\n",
       "      <th>min</th>\n",
       "      <td>879.000000</td>\n",
       "      <td>4.732880e+05</td>\n",
       "      <td>0.000000</td>\n",
       "      <td>-155.000000</td>\n",
       "      <td>1.463546e+12</td>\n",
       "      <td>36.053394</td>\n",
       "      <td>-107.463146</td>\n",
       "    </tr>\n",
       "    <tr>\n",
       "      <th>25%</th>\n",
       "      <td>2790.000000</td>\n",
       "      <td>4.761230e+05</td>\n",
       "      <td>1.000000</td>\n",
       "      <td>-132.500000</td>\n",
       "      <td>1.468410e+12</td>\n",
       "      <td>39.747448</td>\n",
       "      <td>-105.074287</td>\n",
       "    </tr>\n",
       "    <tr>\n",
       "      <th>50%</th>\n",
       "      <td>3559.000000</td>\n",
       "      <td>4.763150e+05</td>\n",
       "      <td>1.000000</td>\n",
       "      <td>-127.333333</td>\n",
       "      <td>1.473444e+12</td>\n",
       "      <td>39.793585</td>\n",
       "      <td>-105.043685</td>\n",
       "    </tr>\n",
       "    <tr>\n",
       "      <th>75%</th>\n",
       "      <td>7456.000000</td>\n",
       "      <td>4.766090e+05</td>\n",
       "      <td>1.500000</td>\n",
       "      <td>-121.000000</td>\n",
       "      <td>1.479118e+12</td>\n",
       "      <td>39.838740</td>\n",
       "      <td>-104.998429</td>\n",
       "    </tr>\n",
       "    <tr>\n",
       "      <th>max</th>\n",
       "      <td>11951.000000</td>\n",
       "      <td>1.747448e+06</td>\n",
       "      <td>2.000000</td>\n",
       "      <td>-64.000000</td>\n",
       "      <td>1.481143e+12</td>\n",
       "      <td>64.300000</td>\n",
       "      <td>-68.500000</td>\n",
       "    </tr>\n",
       "  </tbody>\n",
       "</table>\n",
       "</div>"
      ],
      "text/plain": [
       "               bsid           did          nseq          rssi       time_ux  \\\n",
       "count  39250.000000  3.925000e+04  39250.000000  39250.000000  3.925000e+04   \n",
       "mean    4533.774752  4.835932e+05      1.043541   -125.863580  1.473368e+12   \n",
       "std     2570.495638  9.893140e+04      0.563540      9.226500  5.506910e+09   \n",
       "min      879.000000  4.732880e+05      0.000000   -155.000000  1.463546e+12   \n",
       "25%     2790.000000  4.761230e+05      1.000000   -132.500000  1.468410e+12   \n",
       "50%     3559.000000  4.763150e+05      1.000000   -127.333333  1.473444e+12   \n",
       "75%     7456.000000  4.766090e+05      1.500000   -121.000000  1.479118e+12   \n",
       "max    11951.000000  1.747448e+06      2.000000    -64.000000  1.481143e+12   \n",
       "\n",
       "             bs_lat        bs_lng  \n",
       "count  39250.000000  39250.000000  \n",
       "mean      42.554998   -100.969685  \n",
       "std        7.722787     11.522732  \n",
       "min       36.053394   -107.463146  \n",
       "25%       39.747448   -105.074287  \n",
       "50%       39.793585   -105.043685  \n",
       "75%       39.838740   -104.998429  \n",
       "max       64.300000    -68.500000  "
      ]
     },
     "execution_count": 376,
     "metadata": {},
     "output_type": "execute_result"
    }
   ],
   "source": [
    "df_mess_train.describe()"
   ]
  },
  {
   "cell_type": "markdown",
   "metadata": {},
   "source": [
    "## Map des Bsid"
   ]
  },
  {
   "cell_type": "code",
   "execution_count": 390,
   "metadata": {
    "collapsed": false
   },
   "outputs": [
    {
     "name": "stdout",
     "output_type": "stream",
     "text": [
      "39250\n"
     ]
    },
    {
     "data": {
      "text/plain": [
       "<mpl_toolkits.basemap.Basemap at 0x6bd5f160>"
      ]
     },
     "execution_count": 390,
     "metadata": {},
     "output_type": "execute_result"
    },
    {
     "data": {
      "image/png": "[encoded data removed]",
      "text/plain": [
       "<matplotlib.figure.Figure at 0x6bd5ffd0>"
      ]
     },
     "metadata": {},
     "output_type": "display_data"
    }
   ],
   "source": [
    "import matplotlib.pyplot as plt\n",
    "import matplotlib.cm\n",
    "%matplotlib inline\n",
    "from mpl_toolkits.basemap import Basemap\n",
    "from matplotlib.patches import Polygon\n",
    "from matplotlib.collections import PatchCollection\n",
    "from matplotlib.colors import Normalize\n",
    "fig, ax = plt.subplots(figsize=(15,20))\n",
    "m = Basemap(resolution='l', # c, l, i, h, f or None\n",
    "            projection='merc',\n",
    "            lat_0=37.839763, lon_0=-94.708295,\n",
    "            llcrnrlon=-112.03, llcrnrlat= 31.78, urcrnrlon=-97.01, urcrnrlat=45.01)\n",
    "m.drawmapboundary(fill_color='#ffffff')\n",
    "m.fillcontinents(color='#555555',lake_color='#ffffff')\n",
    "m.drawcoastlines()\n",
    "plt.title(\"BSID Locations\")\n",
    "m.readshapefile('map','areas')\n",
    "lon = pos_train['lng']\n",
    "lat = pos_train['lat']\n",
    "print np.shape(lat)[0]\n",
    "for i in range(0, np.shape(lat)[0]):\n",
    "    x,y = m(lon[i], lat[i])\n",
    "    m.scatter(x, y, marker='o', lw=.25,\n",
    "    facecolor='#33ccff', edgecolor='w',\n",
    "    alpha=0.9, antialiased=True,\n",
    "    label='Blue Plaque Locations', zorder=3)\n",
    "m"
   ]
  },
  {
   "cell_type": "markdown",
   "metadata": {},
   "source": [
    "## Pour construire note matrice de features, on a choisi de ne garder que les messages reçus par au moins 3 balises, ceci a amélioré considérablement nos résultats de régression."
   ]
  },
  {
   "cell_type": "code",
   "execution_count": 391,
   "metadata": {
    "collapsed": false
   },
   "outputs": [
    {
     "data": {
      "text/plain": [
       "3786"
      ]
     },
     "execution_count": 391,
     "metadata": {},
     "output_type": "execute_result"
    }
   ],
   "source": [
    "# identification des messages détectés par plus de 3 bsid\n",
    "chart= df_mess_train.groupby(\"objid\").bsid.count()\n",
    "message_ids_to_keep = chart[chart>=3].index.values\n",
    "len(message_ids_to_keep)"
   ]
  },
  {
   "cell_type": "code",
   "execution_count": 392,
   "metadata": {
    "collapsed": false
   },
   "outputs": [
    {
     "data": {
      "text/plain": [
       "36015"
      ]
     },
     "execution_count": 392,
     "metadata": {},
     "output_type": "execute_result"
    }
   ],
   "source": [
    "# elimination des messages ayant été recus par moins de 3 bsid dans la df de train\n",
    "df_mess_train = df_mess_train[df_mess_train.objid.isin(message_ids_to_keep)]\n",
    "df_mess_train.objid.count()"
   ]
  },
  {
   "cell_type": "code",
   "execution_count": 393,
   "metadata": {
    "collapsed": false
   },
   "outputs": [
    {
     "data": {
      "text/html": [
       "<div>\n",
       "<table border=\"1\" class=\"dataframe\">\n",
       "  <thead>\n",
       "    <tr style=\"text-align: right;\">\n",
       "      <th></th>\n",
       "      <th>lat</th>\n",
       "      <th>lng</th>\n",
       "    </tr>\n",
       "  </thead>\n",
       "  <tbody>\n",
       "    <tr>\n",
       "      <th>count</th>\n",
       "      <td>39250.000000</td>\n",
       "      <td>39250.000000</td>\n",
       "    </tr>\n",
       "    <tr>\n",
       "      <th>mean</th>\n",
       "      <td>39.783333</td>\n",
       "      <td>-105.056343</td>\n",
       "    </tr>\n",
       "    <tr>\n",
       "      <th>std</th>\n",
       "      <td>0.206262</td>\n",
       "      <td>0.162954</td>\n",
       "    </tr>\n",
       "    <tr>\n",
       "      <th>min</th>\n",
       "      <td>35.770683</td>\n",
       "      <td>-107.630679</td>\n",
       "    </tr>\n",
       "    <tr>\n",
       "      <th>25%</th>\n",
       "      <td>39.708599</td>\n",
       "      <td>-105.060463</td>\n",
       "    </tr>\n",
       "    <tr>\n",
       "      <th>50%</th>\n",
       "      <td>39.776882</td>\n",
       "      <td>-105.039440</td>\n",
       "    </tr>\n",
       "    <tr>\n",
       "      <th>75%</th>\n",
       "      <td>39.805279</td>\n",
       "      <td>-105.018730</td>\n",
       "    </tr>\n",
       "    <tr>\n",
       "      <th>max</th>\n",
       "      <td>43.140387</td>\n",
       "      <td>-102.094289</td>\n",
       "    </tr>\n",
       "  </tbody>\n",
       "</table>\n",
       "</div>"
      ],
      "text/plain": [
       "                lat           lng\n",
       "count  39250.000000  39250.000000\n",
       "mean      39.783333   -105.056343\n",
       "std        0.206262      0.162954\n",
       "min       35.770683   -107.630679\n",
       "25%       39.708599   -105.060463\n",
       "50%       39.776882   -105.039440\n",
       "75%       39.805279   -105.018730\n",
       "max       43.140387   -102.094289"
      ]
     },
     "execution_count": 393,
     "metadata": {},
     "output_type": "execute_result"
    }
   ],
   "source": [
    "# pos_train\n",
    "pos_train.describe()"
   ]
  },
  {
   "cell_type": "code",
   "execution_count": 394,
   "metadata": {
    "collapsed": false
   },
   "outputs": [
    {
     "data": {
      "text/html": [
       "<div>\n",
       "<table border=\"1\" class=\"dataframe\">\n",
       "  <thead>\n",
       "    <tr style=\"text-align: right;\">\n",
       "      <th></th>\n",
       "      <th>lat</th>\n",
       "      <th>lng</th>\n",
       "    </tr>\n",
       "  </thead>\n",
       "  <tbody>\n",
       "    <tr>\n",
       "      <th>count</th>\n",
       "      <td>36015.000000</td>\n",
       "      <td>36015.000000</td>\n",
       "    </tr>\n",
       "    <tr>\n",
       "      <th>mean</th>\n",
       "      <td>39.783365</td>\n",
       "      <td>-105.056175</td>\n",
       "    </tr>\n",
       "    <tr>\n",
       "      <th>std</th>\n",
       "      <td>0.164657</td>\n",
       "      <td>0.133566</td>\n",
       "    </tr>\n",
       "    <tr>\n",
       "      <th>min</th>\n",
       "      <td>36.171342</td>\n",
       "      <td>-107.050011</td>\n",
       "    </tr>\n",
       "    <tr>\n",
       "      <th>25%</th>\n",
       "      <td>39.710330</td>\n",
       "      <td>-105.060223</td>\n",
       "    </tr>\n",
       "    <tr>\n",
       "      <th>50%</th>\n",
       "      <td>39.777468</td>\n",
       "      <td>-105.039717</td>\n",
       "    </tr>\n",
       "    <tr>\n",
       "      <th>75%</th>\n",
       "      <td>39.805195</td>\n",
       "      <td>-105.018811</td>\n",
       "    </tr>\n",
       "    <tr>\n",
       "      <th>max</th>\n",
       "      <td>42.452279</td>\n",
       "      <td>-102.492562</td>\n",
       "    </tr>\n",
       "  </tbody>\n",
       "</table>\n",
       "</div>"
      ],
      "text/plain": [
       "                lat           lng\n",
       "count  36015.000000  36015.000000\n",
       "mean      39.783365   -105.056175\n",
       "std        0.164657      0.133566\n",
       "min       36.171342   -107.050011\n",
       "25%       39.710330   -105.060223\n",
       "50%       39.777468   -105.039717\n",
       "75%       39.805195   -105.018811\n",
       "max       42.452279   -102.492562"
      ]
     },
     "execution_count": 394,
     "metadata": {},
     "output_type": "execute_result"
    }
   ],
   "source": [
    "# elimination de message ayant été recu par moins de 3 bsid dans la df de test\n",
    "pos_train = pos_train[pos_train.index.isin(df_mess_train.index.values)]\n",
    "pos_train.describe()"
   ]
  },
  {
   "cell_type": "code",
   "execution_count": 395,
   "metadata": {
    "collapsed": false
   },
   "outputs": [
    {
     "data": {
      "text/html": [
       "<div>\n",
       "<table border=\"1\" class=\"dataframe\">\n",
       "  <thead>\n",
       "    <tr style=\"text-align: right;\">\n",
       "      <th></th>\n",
       "      <th>lat</th>\n",
       "      <th>lng</th>\n",
       "    </tr>\n",
       "  </thead>\n",
       "  <tbody>\n",
       "    <tr>\n",
       "      <th>3</th>\n",
       "      <td>39.730417</td>\n",
       "      <td>-104.968940</td>\n",
       "    </tr>\n",
       "    <tr>\n",
       "      <th>4</th>\n",
       "      <td>39.730417</td>\n",
       "      <td>-104.968940</td>\n",
       "    </tr>\n",
       "    <tr>\n",
       "      <th>5</th>\n",
       "      <td>39.730417</td>\n",
       "      <td>-104.968940</td>\n",
       "    </tr>\n",
       "    <tr>\n",
       "      <th>6</th>\n",
       "      <td>39.693102</td>\n",
       "      <td>-105.006995</td>\n",
       "    </tr>\n",
       "    <tr>\n",
       "      <th>7</th>\n",
       "      <td>39.693102</td>\n",
       "      <td>-105.006995</td>\n",
       "    </tr>\n",
       "  </tbody>\n",
       "</table>\n",
       "</div>"
      ],
      "text/plain": [
       "         lat         lng\n",
       "3  39.730417 -104.968940\n",
       "4  39.730417 -104.968940\n",
       "5  39.730417 -104.968940\n",
       "6  39.693102 -105.006995\n",
       "7  39.693102 -105.006995"
      ]
     },
     "execution_count": 395,
     "metadata": {},
     "output_type": "execute_result"
    }
   ],
   "source": [
    "pos_train.head()"
   ]
  },
  {
   "cell_type": "code",
   "execution_count": 396,
   "metadata": {
    "collapsed": false
   },
   "outputs": [
    {
     "data": {
      "text/html": [
       "<div>\n",
       "<table border=\"1\" class=\"dataframe\">\n",
       "  <thead>\n",
       "    <tr style=\"text-align: right;\">\n",
       "      <th></th>\n",
       "      <th>lat</th>\n",
       "      <th>lng</th>\n",
       "    </tr>\n",
       "  </thead>\n",
       "  <tbody>\n",
       "    <tr>\n",
       "      <th>count</th>\n",
       "      <td>36015.000000</td>\n",
       "      <td>36015.000000</td>\n",
       "    </tr>\n",
       "    <tr>\n",
       "      <th>mean</th>\n",
       "      <td>39.783365</td>\n",
       "      <td>-105.056175</td>\n",
       "    </tr>\n",
       "    <tr>\n",
       "      <th>std</th>\n",
       "      <td>0.164657</td>\n",
       "      <td>0.133566</td>\n",
       "    </tr>\n",
       "    <tr>\n",
       "      <th>min</th>\n",
       "      <td>36.171342</td>\n",
       "      <td>-107.050011</td>\n",
       "    </tr>\n",
       "    <tr>\n",
       "      <th>25%</th>\n",
       "      <td>39.710330</td>\n",
       "      <td>-105.060223</td>\n",
       "    </tr>\n",
       "    <tr>\n",
       "      <th>50%</th>\n",
       "      <td>39.777468</td>\n",
       "      <td>-105.039717</td>\n",
       "    </tr>\n",
       "    <tr>\n",
       "      <th>75%</th>\n",
       "      <td>39.805195</td>\n",
       "      <td>-105.018811</td>\n",
       "    </tr>\n",
       "    <tr>\n",
       "      <th>max</th>\n",
       "      <td>42.452279</td>\n",
       "      <td>-102.492562</td>\n",
       "    </tr>\n",
       "  </tbody>\n",
       "</table>\n",
       "</div>"
      ],
      "text/plain": [
       "                lat           lng\n",
       "count  36015.000000  36015.000000\n",
       "mean      39.783365   -105.056175\n",
       "std        0.164657      0.133566\n",
       "min       36.171342   -107.050011\n",
       "25%       39.710330   -105.060223\n",
       "50%       39.777468   -105.039717\n",
       "75%       39.805195   -105.018811\n",
       "max       42.452279   -102.492562"
      ]
     },
     "execution_count": 396,
     "metadata": {},
     "output_type": "execute_result"
    }
   ],
   "source": [
    "pos_train.describe()"
   ]
  },
  {
   "cell_type": "code",
   "execution_count": 397,
   "metadata": {
    "collapsed": false
   },
   "outputs": [],
   "source": [
    "# determine all Base stations that received at least 1 message \n",
    "#(sur les jeux de train et de test)\n",
    "listOfBs = np.union1d(np.unique(df_mess_train['bsid']), np.unique(df_mess_test['bsid'])) "
   ]
  },
  {
   "cell_type": "markdown",
   "metadata": {},
   "source": [
    "## Construction de la nouvelle matrice de features :"
   ]
  },
  {
   "cell_type": "markdown",
   "metadata": {},
   "source": [
    "## Pour construire notre nouvelle matrice de features, on tient en compte de la puissance du signal pour chaque message et relativement à chaque balise."
   ]
  },
  {
   "cell_type": "code",
   "execution_count": 398,
   "metadata": {
    "collapsed": true
   },
   "outputs": [],
   "source": [
    "# Feature Matrix construction \n",
    "\n",
    "def feat_mat_const(df_mess_train, listOfBs):\n",
    "    my_df = df_mess_train[['objid','bsid','nseq']]\n",
    "    my_df['value'] = df_mess_train[['rssi']]\n",
    "    df_feat = my_df.pivot(index='objid', columns='bsid', values='value').fillna(-155)\n",
    "    bsid_set = set(listOfBs)\n",
    "    print(len(bsid_set))\n",
    "    exist = set(df_feat.columns)\n",
    "    print(len(exist))\n",
    "    missing = bsid_set - exist\n",
    "    print(missing)\n",
    "    # colonne manquant dans le modele produit dans le jeu d'entrainement\n",
    "    for col in missing: \n",
    "        df_feat[col]= -155\n",
    "    df_feat.shape\n",
    "    print(df_feat.shape)\n",
    "    return df_feat"
   ]
  },
  {
   "cell_type": "code",
   "execution_count": 399,
   "metadata": {
    "collapsed": false
   },
   "outputs": [
    {
     "name": "stdout",
     "output_type": "stream",
     "text": [
      "251\n",
      "241\n",
      "set([8392, 1131, 3629, 9936, 8168, 3828, 9941, 9783, 3034, 9949])\n",
      "(3786, 251)\n"
     ]
    },
    {
     "name": "stderr",
     "output_type": "stream",
     "text": [
      "C:\\Users\\Rim\\Anaconda2\\lib\\site-packages\\ipykernel\\__main__.py:5: SettingWithCopyWarning: \n",
      "A value is trying to be set on a copy of a slice from a DataFrame.\n",
      "Try using .loc[row_indexer,col_indexer] = value instead\n",
      "\n",
      "See the caveats in the documentation: http://pandas.pydata.org/pandas-docs/stable/indexing.html#indexing-view-versus-copy\n"
     ]
    }
   ],
   "source": [
    "df_feat = feat_mat_const(df_mess_train, listOfBs)\n",
    "# Ici, on tient compte des balises qui n'ont reçu aucun message (8 balises)"
   ]
  },
  {
   "cell_type": "code",
   "execution_count": 400,
   "metadata": {
    "collapsed": false
   },
   "outputs": [],
   "source": [
    "# ground truth construction\n",
    "# récuperation de la moyenne latitude et de la moyenne longitude\n",
    "\n",
    "def ground_truth_const(df_mess_train, pos_train):\n",
    "    df_mess_pos = df_mess_train.copy()\n",
    "    df_mess_pos[['lat', 'lng']] = pos_train\n",
    "    ground_truth_lat = np.array(df_mess_pos.groupby(['objid']).mean()['lat'])\n",
    "    ground_truth_lng = np.array(df_mess_pos.groupby(['objid']).mean()['lng'])\n",
    "    return ground_truth_lat, ground_truth_lng"
   ]
  },
  {
   "cell_type": "code",
   "execution_count": 401,
   "metadata": {
    "collapsed": false
   },
   "outputs": [
    {
     "name": "stdout",
     "output_type": "stream",
     "text": [
      "(3786L,)\n",
      "(3786L,)\n"
     ]
    }
   ],
   "source": [
    "ground_truth_lat, ground_truth_lng = ground_truth_const(df_mess_train, pos_train)\n",
    "print(ground_truth_lat.shape)\n",
    "print(ground_truth_lng.shape)"
   ]
  },
  {
   "cell_type": "markdown",
   "metadata": {
    "collapsed": true
   },
   "source": [
    "## 1. Algorithme des plus proches voisins KNN :"
   ]
  },
  {
   "cell_type": "code",
   "execution_count": 402,
   "metadata": {
    "collapsed": false
   },
   "outputs": [],
   "source": [
    "def regressor_and_predict(df_feat, ground_truth_lat, ground_truth_lng, df_test):\n",
    "    \n",
    "    # train regressor and make prediction in the train set\n",
    "    # Input: df_feat: feature matrix used to train regressor\n",
    "    #        ground_truth_lat: df_feat associated latitude\n",
    "    #        ground_truth_lng: df_feat associated longitude\n",
    "    #        df_test: data frame used for prediction\n",
    "    # Output: y_pred_lat, y_pred_lng\n",
    "\n",
    "    X_train = np.array(df_feat);\n",
    "    reg = KNeighborsRegressor(n_neighbors=7, weights='distance',p=1 )\n",
    "    \n",
    "    reg.fit(X_train, ground_truth_lat);\n",
    "    y_pred_lat = reg.predict(df_test) \n",
    "\n",
    "    reg.fit(X_train, ground_truth_lng);\n",
    "    y_pred_lng = reg.predict(df_test) \n",
    "\n",
    "    return y_pred_lat, y_pred_lng, reg\n",
    "\n"
   ]
  },
  {
   "cell_type": "code",
   "execution_count": 403,
   "metadata": {
    "collapsed": true
   },
   "outputs": [],
   "source": [
    "# Make regressor and prediction using the train set"
   ]
  },
  {
   "cell_type": "code",
   "execution_count": 404,
   "metadata": {
    "collapsed": false
   },
   "outputs": [],
   "source": [
    "y_pred_lat, y_pred_lng, reg = regressor_and_predict(df_feat, ground_truth_lat, ground_truth_lng, df_feat)"
   ]
  },
  {
   "cell_type": "code",
   "execution_count": 405,
   "metadata": {
    "collapsed": true
   },
   "outputs": [],
   "source": [
    "# Cross validation"
   ]
  },
  {
   "cell_type": "code",
   "execution_count": 406,
   "metadata": {
    "collapsed": false
   },
   "outputs": [],
   "source": [
    "from sklearn.model_selection import cross_val_predict\n",
    "X_train = np.array(df_feat)\n",
    "#Knn\n",
    "y_pred_lng = cross_val_predict(reg, X_train, ground_truth_lng, cv=10)\n",
    "y_pred_lat = cross_val_predict(reg, X_train, ground_truth_lat, cv=10)"
   ]
  },
  {
   "cell_type": "code",
   "execution_count": 407,
   "metadata": {
    "collapsed": true
   },
   "outputs": [],
   "source": [
    "# Evaluate result"
   ]
  },
  {
   "cell_type": "code",
   "execution_count": 408,
   "metadata": {
    "collapsed": true
   },
   "outputs": [],
   "source": [
    "def vincenty_vec(vec_coord):\n",
    "    vin_vec_dist = np.zeros(vec_coord.shape[0])\n",
    "    if vec_coord.shape[1] !=  4:\n",
    "        print('ERROR: Bad number of columns (shall be = 4)')\n",
    "    else:\n",
    "        vin_vec_dist = [vincenty(vec_coord[m,0:2],vec_coord[m,2:]).meters for m in range(vec_coord.shape[0])]\n",
    "    return vin_vec_dist"
   ]
  },
  {
   "cell_type": "code",
   "execution_count": 409,
   "metadata": {
    "collapsed": true
   },
   "outputs": [],
   "source": [
    "# evaluate distance error for each predicted point\n",
    "def Eval_geoloc(y_train_lat , y_train_lng, y_pred_lat, y_pred_lng):\n",
    "    vec_coord = np.array([y_train_lat , y_train_lng, y_pred_lat, y_pred_lng])\n",
    "    err_vec = vincenty_vec(np.transpose(vec_coord))\n",
    "    \n",
    "    return err_vec"
   ]
  },
  {
   "cell_type": "code",
   "execution_count": 410,
   "metadata": {
    "collapsed": false
   },
   "outputs": [],
   "source": [
    "err_vec = Eval_geoloc(ground_truth_lat , ground_truth_lng, y_pred_lat, y_pred_lng)"
   ]
  },
  {
   "cell_type": "code",
   "execution_count": 411,
   "metadata": {
    "collapsed": true
   },
   "outputs": [],
   "source": [
    "# Plot error distribution"
   ]
  },
  {
   "cell_type": "code",
   "execution_count": 412,
   "metadata": {
    "collapsed": false
   },
   "outputs": [
    {
     "data": {
      "text/plain": [
       "<matplotlib.legend.Legend at 0x6baa18d0>"
      ]
     },
     "execution_count": 412,
     "metadata": {},
     "output_type": "execute_result"
    },
    {
     "data": {
      "image/png": "[encoded data removed]",
      "text/plain": [
       "<matplotlib.figure.Figure at 0x18ffe2b0>"
      ]
     },
     "metadata": {},
     "output_type": "display_data"
    }
   ],
   "source": [
    "values, base = np.histogram(err_vec, bins=50000)\n",
    "cumulative = np.cumsum(values) \n",
    "plt.figure();\n",
    "plt.plot(base[:-1]/1000, cumulative / np.float(np.sum(values))  * 100.0, c='blue')\n",
    "plt.grid(); plt.xlabel('Distance Error (km)'); plt.ylabel('Cum proba (%)'); plt.axis([0, 30, 0, 100]); \n",
    "plt.title('Error Cumulative Probability'); plt.legend( [\"Knn\"])"
   ]
  },
  {
   "cell_type": "code",
   "execution_count": 414,
   "metadata": {
    "collapsed": false
   },
   "outputs": [
    {
     "name": "stdout",
     "output_type": "stream",
     "text": [
      "L'erreur est 2.35452190593 Km avec les Knn\n"
     ]
    }
   ],
   "source": [
    "# Error criterion\n",
    "\n",
    "print \"L'erreur est\", np.percentile(err_vec, 80)/1000, \"Km avec les Knn\""
   ]
  },
  {
   "cell_type": "markdown",
   "metadata": {},
   "source": [
    "## 2. ExtraTreesRegressor :"
   ]
  },
  {
   "cell_type": "code",
   "execution_count": 415,
   "metadata": {
    "collapsed": true
   },
   "outputs": [],
   "source": [
    "def regressor_and_predict(df_feat, ground_truth_lat, ground_truth_lng, df_test):\n",
    "    \n",
    "    # train regressor and make prediction in the train set\n",
    "    # Input: df_feat: feature matrix used to train regressor\n",
    "    #        ground_truth_lat: df_feat associated latitude\n",
    "    #        ground_truth_lng: df_feat associated longitude\n",
    "    #        df_test: data frame used for prediction\n",
    "    # Output: y_pred_lat, y_pred_lng\n",
    "\n",
    "    X_train = np.array(df_feat);    \n",
    "    reg = ensemble.ExtraTreesRegressor(n_estimators=100, \n",
    "\tmax_depth=None, max_features='auto')\n",
    "    \n",
    "    reg.fit(X_train, ground_truth_lat);\n",
    "    y_pred_lat = reg.predict(df_test) \n",
    "\n",
    "    reg.fit(X_train, ground_truth_lng);\n",
    "    y_pred_lng = reg.predict(df_test) \n",
    "\n",
    "    return y_pred_lat, y_pred_lng, reg\n",
    "    "
   ]
  },
  {
   "cell_type": "code",
   "execution_count": 416,
   "metadata": {
    "collapsed": false
   },
   "outputs": [],
   "source": [
    "y_pred_lat, y_pred_lng, reg = regressor_and_predict(df_feat, ground_truth_lat, ground_truth_lng, df_feat)"
   ]
  },
  {
   "cell_type": "code",
   "execution_count": 417,
   "metadata": {
    "collapsed": false
   },
   "outputs": [],
   "source": [
    "from sklearn.model_selection import cross_val_predict\n",
    "X_train = np.array(df_feat)\n",
    "#ETR\n",
    "y_pred_lng = cross_val_predict(reg, X_train, ground_truth_lng, cv=10)\n",
    "y_pred_lat = cross_val_predict(reg, X_train, ground_truth_lat, cv=10)"
   ]
  },
  {
   "cell_type": "code",
   "execution_count": 418,
   "metadata": {
    "collapsed": true
   },
   "outputs": [],
   "source": [
    "err_vec = Eval_geoloc(ground_truth_lat , ground_truth_lng, y_pred_lat, y_pred_lng)"
   ]
  },
  {
   "cell_type": "code",
   "execution_count": 420,
   "metadata": {
    "collapsed": false
   },
   "outputs": [
    {
     "data": {
      "text/plain": [
       "<matplotlib.legend.Legend at 0x5e9c4b38>"
      ]
     },
     "execution_count": 420,
     "metadata": {},
     "output_type": "execute_result"
    },
    {
     "data": {
      "image/png": "[encoded data removed]",
      "text/plain": [
       "<matplotlib.figure.Figure at 0x1b881f28>"
      ]
     },
     "metadata": {},
     "output_type": "display_data"
    }
   ],
   "source": [
    "values, base = np.histogram(err_vec, bins=50000)\n",
    "cumulative = np.cumsum(values) \n",
    "plt.figure();\n",
    "plt.plot(base[:-1]/1000, cumulative / np.float(np.sum(values))  * 100.0, c='blue')\n",
    "plt.grid(); plt.xlabel('Distance Error (km)'); plt.ylabel('Cum proba (%)'); plt.axis([0, 30, 0, 100]); \n",
    "plt.title('Error Cumulative Probability'); plt.legend( [\"ExtraTreesRegressor\"])"
   ]
  },
  {
   "cell_type": "code",
   "execution_count": 421,
   "metadata": {
    "collapsed": false
   },
   "outputs": [
    {
     "name": "stdout",
     "output_type": "stream",
     "text": [
      "L'erreur est 2.40365548606 Km avec l'ExtraTreesRegressor\n"
     ]
    }
   ],
   "source": [
    "# Error criterion\n",
    "\n",
    "print \"L'erreur est\", np.percentile(err_vec, 80)/1000, \"Km avec l'ExtraTreesRegressor\""
   ]
  },
  {
   "cell_type": "code",
   "execution_count": 136,
   "metadata": {
    "collapsed": true
   },
   "outputs": [],
   "source": [
    "# Export en CSV"
   ]
  },
  {
   "cell_type": "code",
   "execution_count": 422,
   "metadata": {
    "collapsed": false
   },
   "outputs": [
    {
     "data": {
      "text/html": [
       "<div>\n",
       "<table border=\"1\" class=\"dataframe\">\n",
       "  <thead>\n",
       "    <tr style=\"text-align: right;\">\n",
       "      <th></th>\n",
       "      <th>lat</th>\n",
       "      <th>lng</th>\n",
       "    </tr>\n",
       "  </thead>\n",
       "  <tbody>\n",
       "    <tr>\n",
       "      <th>0</th>\n",
       "      <td>39.731962</td>\n",
       "      <td>-104.971792</td>\n",
       "    </tr>\n",
       "    <tr>\n",
       "      <th>1</th>\n",
       "      <td>39.692564</td>\n",
       "      <td>-105.004948</td>\n",
       "    </tr>\n",
       "    <tr>\n",
       "      <th>2</th>\n",
       "      <td>39.751675</td>\n",
       "      <td>-105.034966</td>\n",
       "    </tr>\n",
       "    <tr>\n",
       "      <th>3</th>\n",
       "      <td>39.703275</td>\n",
       "      <td>-104.994691</td>\n",
       "    </tr>\n",
       "    <tr>\n",
       "      <th>4</th>\n",
       "      <td>39.747117</td>\n",
       "      <td>-105.046533</td>\n",
       "    </tr>\n",
       "  </tbody>\n",
       "</table>\n",
       "</div>"
      ],
      "text/plain": [
       "         lat         lng\n",
       "0  39.731962 -104.971792\n",
       "1  39.692564 -105.004948\n",
       "2  39.751675 -105.034966\n",
       "3  39.703275 -104.994691\n",
       "4  39.747117 -105.046533"
      ]
     },
     "execution_count": 422,
     "metadata": {},
     "output_type": "execute_result"
    }
   ],
   "source": [
    "test_res = pd.DataFrame(np.array([y_pred_lat, y_pred_lng]).T, columns = ['lat', 'lng'])\n",
    "test_res.to_csv('pred_pos_test_list.csv', index=False)\n",
    "test_res.head()"
   ]
  },
  {
   "cell_type": "markdown",
   "metadata": {},
   "source": [
    "# Conclusions et Synthèse\n",
    "\n",
    "*  On a retenu les méthodes Knn et ExtraTrees qui fournissaient les meilleurs résultats.\n",
    "*  La construction de la nouvelle matrice de features RSSI améliore nos scores par rapport à la première matrice. \n",
    "*  Eliminer les messages qui sont reçus par mois de 3 balises nous as permis d'améliorer notre prédiction.\n",
    "*  On a essayé de tenir en compte de la feature \"nseq\" en l'intégrant dans la matrice de features ou en créeant une nouvelle variable à partir de cette dernière mais ça n'a pas impacté nos resultats donc on s'est restreint à la matrice des RSSI."
   ]
  }
 ],
 "metadata": {
  "anaconda-cloud": {},
  "kernelspec": {
   "display_name": "Python [Root]",
   "language": "python",
   "name": "Python [Root]"
  },
  "language_info": {
   "codemirror_mode": {
    "name": "ipython",
    "version": 2
   },
   "file_extension": ".py",
   "mimetype": "text/x-python",
   "name": "python",
   "nbconvert_exporter": "python",
   "pygments_lexer": "ipython2",
   "version": "2.7.12"
  }
 },
 "nbformat": 4,
 "nbformat_minor": 0
}
